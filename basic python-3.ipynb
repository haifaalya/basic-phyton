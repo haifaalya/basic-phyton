{
 "cells": [
  {
   "cell_type": "markdown",
   "metadata": {},
   "source": [
    "## FUNCTION"
   ]
  },
  {
   "cell_type": "code",
   "execution_count": 12,
   "metadata": {},
   "outputs": [
    {
     "name": "stdout",
     "output_type": "stream",
     "text": [
      "Halo, selamat siang!\n",
      "Halo, selamat siang!\n"
     ]
    }
   ],
   "source": [
    "#mendefinisikan fungsi\n",
    "def sapa():\n",
    "    print(\"Halo, selamat siang!\")\n",
    "sapa()\n",
    "sapa()"
   ]
  },
  {
   "cell_type": "code",
   "execution_count": 19,
   "metadata": {},
   "outputs": [
    {
     "name": "stdout",
     "output_type": "stream",
     "text": [
      "hai hana selamat pagi !\n"
     ]
    }
   ],
   "source": [
    "#Argumen dan parameter\n",
    "def greet(n, w):\n",
    "    print(\"hai\", n, \"selamat\", w, \"!\")\n",
    "greet(\"hana\", \"pagi\")"
   ]
  },
  {
   "cell_type": "code",
   "execution_count": 1,
   "metadata": {},
   "outputs": [
    {
     "name": "stdout",
     "output_type": "stream",
     "text": [
      "56\n",
      "100\n",
      "72000\n"
     ]
    }
   ],
   "source": [
    "def sums(x, y):\n",
    "    x = x * y\n",
    "    print(x)\n",
    "sums(8, 7)\n",
    "sums(10, 10)\n",
    "sums(90, 800)"
   ]
  },
  {
   "cell_type": "code",
   "execution_count": 2,
   "metadata": {},
   "outputs": [
    {
     "name": "stdout",
     "output_type": "stream",
     "text": [
      "Halo\n"
     ]
    },
    {
     "data": {
      "text/plain": [
       "10"
      ]
     },
     "execution_count": 2,
     "metadata": {},
     "output_type": "execute_result"
    }
   ],
   "source": [
    "# return\n",
    "def func():\n",
    "    print(\"Halo\")\n",
    "    return 7 + 3\n",
    "func()"
   ]
  },
  {
   "cell_type": "code",
   "execution_count": 17,
   "metadata": {},
   "outputs": [
    {
     "name": "stdout",
     "output_type": "stream",
     "text": [
      "halo\n"
     ]
    }
   ],
   "source": [
    "#return\n",
    "def func():\n",
    "    print(\"halo\")\n",
    "    return\n",
    "func()"
   ]
  },
  {
   "cell_type": "code",
   "execution_count": 20,
   "metadata": {},
   "outputs": [
    {
     "name": "stdout",
     "output_type": "stream",
     "text": [
      "masukkan angka: 12\n"
     ]
    },
    {
     "data": {
      "text/plain": [
       "1200"
      ]
     },
     "execution_count": 20,
     "metadata": {},
     "output_type": "execute_result"
    }
   ],
   "source": [
    "number = int(input(\"masukkan angka: \"))\n",
    "\n",
    "def angka (x):\n",
    "    if x <= 5:\n",
    "        return x * 10\n",
    "    else:\n",
    "        return x * 100\n",
    "angka(number)\n",
    " "
   ]
  },
  {
   "cell_type": "code",
   "execution_count": 21,
   "metadata": {},
   "outputs": [
    {
     "name": "stdout",
     "output_type": "stream",
     "text": [
      "Nama:  Hana \n",
      "Umur:  17\n"
     ]
    }
   ],
   "source": [
    "#Default Parameter\n",
    "\n",
    "#fungsi umur anak SMA\n",
    "def umur(nama, umur = '17'):\n",
    "    print(\"Nama: \", nama, \"\\nUmur: \", umur)\n",
    "umur(\"Hana\")"
   ]
  },
  {
   "cell_type": "code",
   "execution_count": 4,
   "metadata": {},
   "outputs": [
    {
     "name": "stdout",
     "output_type": "stream",
     "text": [
      "Nama:  Rima \n",
      "Umur: 30 \n",
      "Status: Lajang \n",
      "Pekerjaan: Data Scientist\n"
     ]
    }
   ],
   "source": [
    "# Keyword Parameter\n",
    "\n",
    "def user(nama, umur, status, pekerjaan):\n",
    "    print(\"Nama:\",nama, \"\\nUmur:\", umur, \"\\nStatus:\", status, \"\\nPekerjaan:\", pekerjaan)\n",
    "user(pekerjaan = \"Data Scientist\", umur = 30, status = \"Lajang\", nama = \" Rima\")"
   ]
  },
  {
   "cell_type": "code",
   "execution_count": 8,
   "metadata": {},
   "outputs": [
    {
     "name": "stdout",
     "output_type": "stream",
     "text": [
      "Haifa\n"
     ]
    }
   ],
   "source": [
    "# Dictionary\n",
    "users = {'nama':\"Haifa\", 'umur':\"18\"}\n",
    "print(users['nama'])"
   ]
  },
  {
   "cell_type": "code",
   "execution_count": 9,
   "metadata": {},
   "outputs": [
    {
     "name": "stdout",
     "output_type": "stream",
     "text": [
      "Hana\n",
      "Lily\n",
      "Anne\n"
     ]
    }
   ],
   "source": [
    "# *args & **kwargs\n",
    "def args(*nama):\n",
    "    for x in nama:\n",
    "        print(x)\n",
    "args(\"Hana\", \"Lily\", \"Anne\")"
   ]
  },
  {
   "cell_type": "code",
   "execution_count": 13,
   "metadata": {},
   "outputs": [
    {
     "name": "stdout",
     "output_type": "stream",
     "text": [
      "nama: Haifa\n",
      "umur: 18\n",
      "Hobi: Nonton Formula 1\n",
      "\n",
      "nama: Lando\n",
      "umur: 21\n",
      "Hobi: Balap Mobil\n"
     ]
    }
   ],
   "source": [
    "# **kwargs\n",
    "def bio(**data):\n",
    "    for key, value in data.items():\n",
    "        print(key, value, sep=\": \")\n",
    "\n",
    "bio(nama = \"Haifa\", umur = 18, Hobi = \"Nonton Formula 1\")\n",
    "print()\n",
    "bio(nama = \"Lando\", umur = 21, Hobi = \"Balap Mobil\")"
   ]
  },
  {
   "cell_type": "code",
   "execution_count": 14,
   "metadata": {},
   "outputs": [
    {
     "data": {
      "text/plain": [
       "2.5"
      ]
     },
     "execution_count": 14,
     "metadata": {},
     "output_type": "execute_result"
    }
   ],
   "source": [
    "# Lambda Function / Anonymous Function\n",
    "\n",
    "bagi = lambda x, y: x/y\n",
    "bagi(10, 4)"
   ]
  },
  {
   "cell_type": "code",
   "execution_count": 15,
   "metadata": {},
   "outputs": [
    {
     "name": "stdout",
     "output_type": "stream",
     "text": [
      "[100, 121, 144, 169, 196, 225, 256, 289, 324, 361, 400]\n"
     ]
    }
   ],
   "source": [
    "deret = [10, 11, 12, 13, 14, 15, 16, 17, 18, 19, 20]\n",
    "deret2 = [10, 11, 12, 13, 14, 15, 16, 17, 18, 19, 20]\n",
    "\n",
    "hitung = map (lambda x, y: x * y, deret, deret2)\n",
    "print(list(hitung))"
   ]
  },
  {
   "cell_type": "code",
   "execution_count": 16,
   "metadata": {},
   "outputs": [
    {
     "name": "stdout",
     "output_type": "stream",
     "text": [
      "Ini Global Scope\n",
      "Ini local scope\n"
     ]
    }
   ],
   "source": [
    "# Local and Global Scope\n",
    "globalscope = \"Ini Global Scope\"\n",
    "def gs():\n",
    "    localscope = \"Ini local scope\"\n",
    "    print(globalscope)\n",
    "    print(localscope)\n",
    "gs()"
   ]
  },
  {
   "cell_type": "code",
   "execution_count": 17,
   "metadata": {},
   "outputs": [
    {
     "name": "stdout",
     "output_type": "stream",
     "text": [
      "3.141592653589793\n"
     ]
    }
   ],
   "source": [
    "# module\n",
    "import math as matematika\n",
    "\n",
    "pi = matematika.pi\n",
    "print(pi)"
   ]
  },
  {
   "cell_type": "code",
   "execution_count": 18,
   "metadata": {},
   "outputs": [
    {
     "name": "stdout",
     "output_type": "stream",
     "text": [
      "3\n"
     ]
    }
   ],
   "source": [
    "akar = matematika.sqrt(10)\n",
    "print(int(akar))"
   ]
  },
  {
   "cell_type": "code",
   "execution_count": 19,
   "metadata": {},
   "outputs": [
    {
     "name": "stdout",
     "output_type": "stream",
     "text": [
      "win32\n"
     ]
    }
   ],
   "source": [
    "import sys\n",
    "print(sys.platform)"
   ]
  },
  {
   "cell_type": "code",
   "execution_count": 20,
   "metadata": {},
   "outputs": [
    {
     "name": "stdout",
     "output_type": "stream",
     "text": [
      "time.struct_time(tm_year=2020, tm_mon=11, tm_mday=14, tm_hour=16, tm_min=39, tm_sec=0, tm_wday=5, tm_yday=319, tm_isdst=0)\n"
     ]
    }
   ],
   "source": [
    "import time\n",
    "\n",
    "print(time.localtime())"
   ]
  },
  {
   "cell_type": "code",
   "execution_count": null,
   "metadata": {},
   "outputs": [],
   "source": []
  }
 ],
 "metadata": {
  "kernelspec": {
   "display_name": "Python 3",
   "language": "python",
   "name": "python3"
  },
  "language_info": {
   "codemirror_mode": {
    "name": "ipython",
    "version": 3
   },
   "file_extension": ".py",
   "mimetype": "text/x-python",
   "name": "python",
   "nbconvert_exporter": "python",
   "pygments_lexer": "ipython3",
   "version": "3.9.0"
  }
 },
 "nbformat": 4,
 "nbformat_minor": 4
}
